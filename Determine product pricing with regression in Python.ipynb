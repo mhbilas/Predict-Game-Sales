{
 "cells": [
  {
   "cell_type": "markdown",
   "id": "3ff473e1",
   "metadata": {},
   "source": [
    "# Week 1: Determine product pricing"
   ]
  },
  {
   "cell_type": "markdown",
   "id": "72a3fd0c",
   "metadata": {},
   "source": [
    "## Scenario"
   ]
  },
  {
   "cell_type": "markdown",
   "id": "458fe794",
   "metadata": {},
   "source": [
    "Turtle Games sources and sells Lego products across various countries. They want your help with determining the optimal price of products that would achieve maximum sales results."
   ]
  },
  {
   "cell_type": "markdown",
   "id": "c19f0f19",
   "metadata": {},
   "source": [
    "## Objective"
   ]
  },
  {
   "cell_type": "markdown",
   "id": "0fddd69e",
   "metadata": {},
   "source": [
    "Determine the optimal price at which they should sell Lego products based on the number of Lego pieces in the Lego set and the age of the customer that the product is most likely to be purchased by.\n",
    "\n",
    "- What price should be set for the Lego sets with 8000 Lego pieces? \n",
    "- What price should be set for the Lego sets with 8000 Lego pieces that are most likely to be purchased by 30-year-old customers?"
   ]
  },
  {
   "cell_type": "markdown",
   "id": "0d643d1f",
   "metadata": {},
   "source": [
    "## Prepare workstation and import file"
   ]
  },
  {
   "cell_type": "code",
   "execution_count": 1,
   "id": "5a59c8a0",
   "metadata": {},
   "outputs": [],
   "source": [
    "# Import libraries and packages for linear regression\n",
    "import numpy as np\n",
    "import pandas as pd\n",
    "import statsmodels.api as sm\n",
    "import statsmodels.stats.api as sms\n",
    "import sklearn\n",
    "import matplotlib.pyplot as plt\n",
    "import seaborn as sns\n",
    "\n",
    "from sklearn import datasets\n",
    "from sklearn import linear_model\n",
    "from statsmodels.stats.outliers_influence import variance_inflation_factor\n",
    "from sklearn.model_selection import train_test_split\n",
    "from sklearn import metrics\n",
    "from sklearn.linear_model import LinearRegression\n",
    "from statsmodels.formula.api import ols"
   ]
  },
  {
   "cell_type": "markdown",
   "id": "9c6cb64a",
   "metadata": {},
   "source": [
    "Rationale for libaries and packages:\n",
    "- Numpy: used for statistical calculations\n",
    "- Pandas: used for data manipulation and analysis\n",
    "- Statmodels: used to get OLS to fit a regression line and to calculate variance inflation factor\n",
    "- Sklearn: used to calculate simple and multiple linear regression\n",
    "- Matplotlib: used for plotting functions\n",
    "- Seaborn: used for plotting functions"
   ]
  },
  {
   "cell_type": "code",
   "execution_count": 2,
   "id": "d3f97633",
   "metadata": {},
   "outputs": [],
   "source": [
    "# Turn off warnings\n",
    "import warnings\n",
    "warnings.filterwarnings(\"ignore\")"
   ]
  },
  {
   "cell_type": "markdown",
   "id": "b6da785c",
   "metadata": {},
   "source": [
    "Rationale: Warnings usually occur when there are obsolete programming elements. Warnings have been turned off to make the code cleaner. However, this will still allow errors to appear."
   ]
  },
  {
   "cell_type": "code",
   "execution_count": 3,
   "id": "6d4f1fce",
   "metadata": {},
   "outputs": [],
   "source": [
    "# Import file\n",
    "df_lego = pd.read_csv('lego.csv')"
   ]
  },
  {
   "cell_type": "markdown",
   "id": "e9dabe02",
   "metadata": {},
   "source": [
    "## Explore data through tables"
   ]
  },
  {
   "cell_type": "code",
   "execution_count": 4,
   "id": "25b9008c",
   "metadata": {},
   "outputs": [
    {
     "name": "stdout",
     "output_type": "stream",
     "text": [
      "<class 'pandas.core.frame.DataFrame'>\n",
      "RangeIndex: 12261 entries, 0 to 12260\n",
      "Data columns (total 7 columns):\n",
      " #   Column             Non-Null Count  Dtype  \n",
      "---  ------             --------------  -----  \n",
      " 0   ages               12261 non-null  int64  \n",
      " 1   list_price         12261 non-null  float64\n",
      " 2   num_reviews        12261 non-null  int64  \n",
      " 3   piece_count        12261 non-null  int64  \n",
      " 4   play_star_rating   12261 non-null  float64\n",
      " 5   review_difficulty  12261 non-null  int64  \n",
      " 6   country            12261 non-null  int64  \n",
      "dtypes: float64(2), int64(5)\n",
      "memory usage: 670.6 KB\n"
     ]
    }
   ],
   "source": [
    "# Check file for data types and missing values\n",
    "df_lego.info()"
   ]
  },
  {
   "cell_type": "markdown",
   "id": "58fe0089",
   "metadata": {},
   "source": [
    "**Observations:** There are 12261 observations in the data frame. All data is numeric (as indicated by Dtype). There are no missing values (as indicated by the Non-Null Count against the total entry count)."
   ]
  },
  {
   "cell_type": "code",
   "execution_count": 5,
   "id": "58c8e671",
   "metadata": {},
   "outputs": [
    {
     "name": "stdout",
     "output_type": "stream",
     "text": [
      "   ages  list_price  num_reviews  piece_count  play_star_rating  \\\n",
      "0    19       29.99            2          277               4.0   \n",
      "1    19       19.99            2          168               4.0   \n",
      "2    19       12.99           11           74               4.3   \n",
      "3     5       99.99           23         1032               3.6   \n",
      "4     5       79.99           14          744               3.2   \n",
      "\n",
      "   review_difficulty  country  \n",
      "0                  0       20  \n",
      "1                  2       20  \n",
      "2                  2       20  \n",
      "3                  0       20  \n",
      "4                  1       20  \n"
     ]
    }
   ],
   "source": [
    "# View first few rows of data\n",
    "print(df_lego.head())"
   ]
  },
  {
   "cell_type": "code",
   "execution_count": 6,
   "id": "2e12a089",
   "metadata": {},
   "outputs": [
    {
     "name": "stdout",
     "output_type": "stream",
     "text": [
      "       ages  list_price  num_reviews  piece_count  play_star_rating  \\\n",
      "12256    23     36.5878            6          341               4.4   \n",
      "12257    23     24.3878            8          217               4.1   \n",
      "12258    23     24.3878           18          233               4.6   \n",
      "12259    20     12.1878            1           48               5.0   \n",
      "12260    20     12.1878           11          109               4.5   \n",
      "\n",
      "       review_difficulty  country  \n",
      "12256                  2       19  \n",
      "12257                  2       19  \n",
      "12258                  2       19  \n",
      "12259                  4       19  \n",
      "12260                  2       19  \n"
     ]
    }
   ],
   "source": [
    "# View last few rows of data\n",
    "print(df_lego.tail())"
   ]
  },
  {
   "cell_type": "markdown",
   "id": "b94d40d5",
   "metadata": {},
   "source": [
    "**Observations:** The data appears to have loaded correctly. The values in each of the columns correspond with what is expected from the metadata."
   ]
  },
  {
   "cell_type": "code",
   "execution_count": 7,
   "id": "07b3114c",
   "metadata": {},
   "outputs": [
    {
     "name": "stdout",
     "output_type": "stream",
     "text": [
      "              ages    list_price   num_reviews   piece_count  \\\n",
      "count  12261.00000  12261.000000  12261.000000  12261.000000   \n",
      "mean      16.68828     65.141998     14.603050    493.405921   \n",
      "std        8.21868     91.980429     34.356847    825.364580   \n",
      "min        0.00000      2.272400      0.000000      1.000000   \n",
      "25%       11.00000     19.990000      1.000000     97.000000   \n",
      "50%       19.00000     36.587800      4.000000    216.000000   \n",
      "75%       23.00000     70.192200     11.000000    544.000000   \n",
      "max       30.00000   1104.870000    367.000000   7541.000000   \n",
      "\n",
      "       play_star_rating  review_difficulty       country  \n",
      "count      12261.000000       12261.000000  12261.000000  \n",
      "mean           3.709689           1.988826     10.015333  \n",
      "std            1.641130           1.787565      6.185450  \n",
      "min            0.000000           0.000000      0.000000  \n",
      "25%            3.600000           0.000000      4.000000  \n",
      "50%            4.400000           2.000000     10.000000  \n",
      "75%            4.700000           4.000000     15.000000  \n",
      "max            5.000000           5.000000     20.000000  \n"
     ]
    }
   ],
   "source": [
    "# View distributon of data\n",
    "print(df_lego.describe())"
   ]
  },
  {
   "cell_type": "markdown",
   "id": "d8403fae",
   "metadata": {},
   "source": [
    "**Observations:**\n",
    "- Age (ages): ranges from 0-30 (mean: 17, median: 19)\n",
    "- Price of the product (list_price): ranges from 2.27 USD-1104.87 USD (mean: 65.14 USD, median:36.59 USD)\n",
    "- Number of reviews (num_reviews): ranges from 0-367 (mean: 15, median: 4)\n",
    "- Number of Lego pieces in the product (piece_count): ranges from 1-7541 (mean: 493, median: 216)\n",
    "- Star rating by players/customers (play_star_rating): ranges from 0-5 (mean: 4, median: 4)\n",
    "- Difficulty level of the product (review_difficulty): ranges from 0-5 (mean: 2, median: 2)\n",
    "- Number of countries product is sold to (country): ranges from 0-20 (mean: 10, median: 10)"
   ]
  },
  {
   "cell_type": "markdown",
   "id": "850d58ab",
   "metadata": {},
   "source": [
    "## Explore data through visualisations"
   ]
  },
  {
   "cell_type": "markdown",
   "id": "f6cdcdfe",
   "metadata": {},
   "source": [
    "### Examine distribution of prices"
   ]
  },
  {
   "cell_type": "code",
   "execution_count": 8,
   "id": "34a8c5e5",
   "metadata": {},
   "outputs": [
    {
     "data": {
      "text/plain": [
       "Text(0.5, 1.0, 'Distribution of Prices')"
      ]
     },
     "execution_count": 8,
     "metadata": {},
     "output_type": "execute_result"
    },
    {
     "data": {
      "image/png": "[encoded data removed]",
      "text/plain": [
       "<Figure size 432x288 with 1 Axes>"
      ]
     },
     "metadata": {
      "needs_background": "light"
     },
     "output_type": "display_data"
    }
   ],
   "source": [
    "# View distribution of prices\n",
    "sns.histplot(data=df_lego, x=\"list_price\")\n",
    "plt.title(\"Distribution of Prices\")"
   ]
  },
  {
   "cell_type": "code",
   "execution_count": 9,
   "id": "1907b51c",
   "metadata": {},
   "outputs": [
    {
     "data": {
      "text/plain": [
       "Text(0.5, 1.0, 'Price Outliers')"
      ]
     },
     "execution_count": 9,
     "metadata": {},
     "output_type": "execute_result"
    },
    {
     "data": {
      "image/png": "[encoded data removed]",
      "text/plain": [
       "<Figure size 432x288 with 1 Axes>"
      ]
     },
     "metadata": {
      "needs_background": "light"
     },
     "output_type": "display_data"
    }
   ],
   "source": [
    "# View outliers\n",
    "sns.boxplot(data=df_lego, x=\"list_price\")\n",
    "plt.title(\"Price Outliers\")"
   ]
  },
  {
   "cell_type": "markdown",
   "id": "c8e71201",
   "metadata": {},
   "source": [
    "**Observations:** Most products are priced between 19.99 USD and 70.19 USD with a median of 36.59 USD. There are many outliers at the high end of the price range. Prices range from as low as 2.27 USD and as high as 1104.87 USD. "
   ]
  },
  {
   "cell_type": "markdown",
   "id": "8cdfd683",
   "metadata": {},
   "source": [
    "### Examine relationship between list price and piece count"
   ]
  },
  {
   "cell_type": "code",
   "execution_count": 10,
   "id": "b584c856",
   "metadata": {},
   "outputs": [],
   "source": [
    "# Define the dependent variable\n",
    "y = df_lego['list_price'].values.reshape(-1,1)"
   ]
  },
  {
   "cell_type": "code",
   "execution_count": 11,
   "id": "5aec2ccc",
   "metadata": {},
   "outputs": [],
   "source": [
    "# Define the independent variable\n",
    "x = df_lego['piece_count'].values.reshape(-1,1)"
   ]
  },
  {
   "cell_type": "code",
   "execution_count": 12,
   "id": "04f0f4fb",
   "metadata": {},
   "outputs": [],
   "source": [
    "# Run the regression\n",
    "lm = LinearRegression()"
   ]
  },
  {
   "cell_type": "code",
   "execution_count": 13,
   "id": "ff62bdfd",
   "metadata": {},
   "outputs": [
    {
     "data": {
      "text/html": [
       "<style>#sk-container-id-1 {color: black;background-color: white;}#sk-container-id-1 pre{padding: 0;}#sk-container-id-1 div.sk-toggleable {background-color: white;}#sk-container-id-1 label.sk-toggleable__label {cursor: pointer;display: block;width: 100%;margin-bottom: 0;padding: 0.3em;box-sizing: border-box;text-align: center;}#sk-container-id-1 label.sk-toggleable__label-arrow:before {content: \"▸\";float: left;margin-right: 0.25em;color: #696969;}#sk-container-id-1 label.sk-toggleable__label-arrow:hover:before {color: black;}#sk-container-id-1 div.sk-estimator:hover label.sk-toggleable__label-arrow:before {color: black;}#sk-container-id-1 div.sk-toggleable__content {max-height: 0;max-width: 0;overflow: hidden;text-align: left;background-color: #f0f8ff;}#sk-container-id-1 div.sk-toggleable__content pre {margin: 0.2em;color: black;border-radius: 0.25em;background-color: #f0f8ff;}#sk-container-id-1 input.sk-toggleable__control:checked~div.sk-toggleable__content {max-height: 200px;max-width: 100%;overflow: auto;}#sk-container-id-1 input.sk-toggleable__control:checked~label.sk-toggleable__label-arrow:before {content: \"▾\";}#sk-container-id-1 div.sk-estimator input.sk-toggleable__control:checked~label.sk-toggleable__label {background-color: #d4ebff;}#sk-container-id-1 div.sk-label input.sk-toggleable__control:checked~label.sk-toggleable__label {background-color: #d4ebff;}#sk-container-id-1 input.sk-hidden--visually {border: 0;clip: rect(1px 1px 1px 1px);clip: rect(1px, 1px, 1px, 1px);height: 1px;margin: -1px;overflow: hidden;padding: 0;position: absolute;width: 1px;}#sk-container-id-1 div.sk-estimator {font-family: monospace;background-color: #f0f8ff;border: 1px dotted black;border-radius: 0.25em;box-sizing: border-box;margin-bottom: 0.5em;}#sk-container-id-1 div.sk-estimator:hover {background-color: #d4ebff;}#sk-container-id-1 div.sk-parallel-item::after {content: \"\";width: 100%;border-bottom: 1px solid gray;flex-grow: 1;}#sk-container-id-1 div.sk-label:hover label.sk-toggleable__label {background-color: #d4ebff;}#sk-container-id-1 div.sk-serial::before {content: \"\";position: absolute;border-left: 1px solid gray;box-sizing: border-box;top: 0;bottom: 0;left: 50%;z-index: 0;}#sk-container-id-1 div.sk-serial {display: flex;flex-direction: column;align-items: center;background-color: white;padding-right: 0.2em;padding-left: 0.2em;position: relative;}#sk-container-id-1 div.sk-item {position: relative;z-index: 1;}#sk-container-id-1 div.sk-parallel {display: flex;align-items: stretch;justify-content: center;background-color: white;position: relative;}#sk-container-id-1 div.sk-item::before, #sk-container-id-1 div.sk-parallel-item::before {content: \"\";position: absolute;border-left: 1px solid gray;box-sizing: border-box;top: 0;bottom: 0;left: 50%;z-index: -1;}#sk-container-id-1 div.sk-parallel-item {display: flex;flex-direction: column;z-index: 1;position: relative;background-color: white;}#sk-container-id-1 div.sk-parallel-item:first-child::after {align-self: flex-end;width: 50%;}#sk-container-id-1 div.sk-parallel-item:last-child::after {align-self: flex-start;width: 50%;}#sk-container-id-1 div.sk-parallel-item:only-child::after {width: 0;}#sk-container-id-1 div.sk-dashed-wrapped {border: 1px dashed gray;margin: 0 0.4em 0.5em 0.4em;box-sizing: border-box;padding-bottom: 0.4em;background-color: white;}#sk-container-id-1 div.sk-label label {font-family: monospace;font-weight: bold;display: inline-block;line-height: 1.2em;}#sk-container-id-1 div.sk-label-container {text-align: center;}#sk-container-id-1 div.sk-container {/* jupyter's `normalize.less` sets `[hidden] { display: none; }` but bootstrap.min.css set `[hidden] { display: none !important; }` so we also need the `!important` here to be able to override the default hidden behavior on the sphinx rendered scikit-learn.org. See: https://github.com/scikit-learn/scikit-learn/issues/21755 */display: inline-block !important;position: relative;}#sk-container-id-1 div.sk-text-repr-fallback {display: none;}</style><div id=\"sk-container-id-1\" class=\"sk-top-container\"><div class=\"sk-text-repr-fallback\"><pre>LinearRegression()</pre><b>In a Jupyter environment, please rerun this cell to show the HTML representation or trust the notebook. <br />On GitHub, the HTML representation is unable to render, please try loading this page with nbviewer.org.</b></div><div class=\"sk-container\" hidden><div class=\"sk-item\"><div class=\"sk-estimator sk-toggleable\"><input class=\"sk-toggleable__control sk-hidden--visually\" id=\"sk-estimator-id-1\" type=\"checkbox\" checked><label for=\"sk-estimator-id-1\" class=\"sk-toggleable__label sk-toggleable__label-arrow\">LinearRegression</label><div class=\"sk-toggleable__content\"><pre>LinearRegression()</pre></div></div></div></div></div>"
      ],
      "text/plain": [
       "LinearRegression()"
      ]
     },
     "execution_count": 13,
     "metadata": {},
     "output_type": "execute_result"
    }
   ],
   "source": [
    "# Fit the model\n",
    "lm.fit(x,y)"
   ]
  },
  {
   "cell_type": "code",
   "execution_count": 14,
   "id": "7e93059a",
   "metadata": {},
   "outputs": [
    {
     "data": {
      "text/plain": [
       "array([[20.2307598 ],\n",
       "       [19.26162524],\n",
       "       [18.58323104],\n",
       "       ...,\n",
       "       [19.68783124],\n",
       "       [18.50548707],\n",
       "       [18.50548707]])"
      ]
     },
     "execution_count": 14,
     "metadata": {},
     "output_type": "execute_result"
    }
   ],
   "source": [
    "# Print the target values\n",
    "lm.predict(y)"
   ]
  },
  {
   "cell_type": "code",
   "execution_count": 15,
   "id": "7924d417",
   "metadata": {},
   "outputs": [
    {
     "data": {
      "text/plain": [
       "array([17.32432525])"
      ]
     },
     "execution_count": 15,
     "metadata": {},
     "output_type": "execute_result"
    }
   ],
   "source": [
    "# Call the intercept\n",
    "lm.intercept_"
   ]
  },
  {
   "cell_type": "code",
   "execution_count": 16,
   "id": "27107d28",
   "metadata": {},
   "outputs": [
    {
     "data": {
      "text/plain": [
       "array([[0.09691346]])"
      ]
     },
     "execution_count": 16,
     "metadata": {},
     "output_type": "execute_result"
    }
   ],
   "source": [
    "# Estimated coefficients\n",
    "lm.coef_"
   ]
  },
  {
   "cell_type": "code",
   "execution_count": 17,
   "id": "6f46c50b",
   "metadata": {},
   "outputs": [
    {
     "data": {
      "image/png": "[encoded data removed]",
      "text/plain": [
       "<Figure size 432x288 with 1 Axes>"
      ]
     },
     "metadata": {
      "needs_background": "light"
     },
     "output_type": "display_data"
    }
   ],
   "source": [
    "# Create scatterplot\n",
    "plt.scatter(x, y, color=\"red\")\n",
    "\n",
    "# Create regression line\n",
    "plt.plot(x, lm.predict(x), color=\"green\")\n",
    "\n",
    "# Set title\n",
    "plt.title (\"Relationship between List Price and Piece Count\")\n",
    "\n",
    "# Set label for x-axis\n",
    "plt.xlabel(\"Piece Count\")\n",
    "\n",
    "# Set label for y-axis\n",
    "plt.ylabel(\"List Price\")\n",
    "\n",
    "# Print graph\n",
    "plt.show()"
   ]
  },
  {
   "cell_type": "markdown",
   "id": "3a02089c",
   "metadata": {},
   "source": [
    "**Observations:** In general, as the piece count goes up, so does the list price. However, there may be other factors influencing the price as the relationship does not seem to be perfectly linear."
   ]
  },
  {
   "cell_type": "markdown",
   "id": "6aec9ef7",
   "metadata": {},
   "source": [
    "## Split the data into test and train data sets"
   ]
  },
  {
   "cell_type": "markdown",
   "id": "5f4e59ff",
   "metadata": {},
   "source": [
    "**Rationale:** The purpose of a training data set is to train the model and estimate parameter values in a regression context. The test data set consists of data that was not involved with the estimation of the model. You can test the predictive performance of the model from the training test data set on the training data set and the test data set. This is helpful to guard against overfitting. Overfitting is when a statistical model fits so closely with its training data that the algorithm cannot make accurate predictions on unseen data. The algorithm therefore cannot generalise to new data and, as a result, is unable to perform classification or prediction tasks. \n",
    "\n",
    "Broadly, we want the training data set to be as large as possible while retaining enough observations to have a reasonable sized test data set. We will, therefore, set the training data set to 70% and the test data set to 30%."
   ]
  },
  {
   "cell_type": "code",
   "execution_count": 18,
   "id": "6c4907e9",
   "metadata": {},
   "outputs": [],
   "source": [
    "# Split the data into test and train data sets\n",
    "x_train, x_test, y_train, y_test = train_test_split(x, y, train_size=0.7, random_state=100)"
   ]
  },
  {
   "cell_type": "code",
   "execution_count": 19,
   "id": "b3989bc2",
   "metadata": {},
   "outputs": [
    {
     "data": {
      "text/html": [
       "<style>#sk-container-id-2 {color: black;background-color: white;}#sk-container-id-2 pre{padding: 0;}#sk-container-id-2 div.sk-toggleable {background-color: white;}#sk-container-id-2 label.sk-toggleable__label {cursor: pointer;display: block;width: 100%;margin-bottom: 0;padding: 0.3em;box-sizing: border-box;text-align: center;}#sk-container-id-2 label.sk-toggleable__label-arrow:before {content: \"▸\";float: left;margin-right: 0.25em;color: #696969;}#sk-container-id-2 label.sk-toggleable__label-arrow:hover:before {color: black;}#sk-container-id-2 div.sk-estimator:hover label.sk-toggleable__label-arrow:before {color: black;}#sk-container-id-2 div.sk-toggleable__content {max-height: 0;max-width: 0;overflow: hidden;text-align: left;background-color: #f0f8ff;}#sk-container-id-2 div.sk-toggleable__content pre {margin: 0.2em;color: black;border-radius: 0.25em;background-color: #f0f8ff;}#sk-container-id-2 input.sk-toggleable__control:checked~div.sk-toggleable__content {max-height: 200px;max-width: 100%;overflow: auto;}#sk-container-id-2 input.sk-toggleable__control:checked~label.sk-toggleable__label-arrow:before {content: \"▾\";}#sk-container-id-2 div.sk-estimator input.sk-toggleable__control:checked~label.sk-toggleable__label {background-color: #d4ebff;}#sk-container-id-2 div.sk-label input.sk-toggleable__control:checked~label.sk-toggleable__label {background-color: #d4ebff;}#sk-container-id-2 input.sk-hidden--visually {border: 0;clip: rect(1px 1px 1px 1px);clip: rect(1px, 1px, 1px, 1px);height: 1px;margin: -1px;overflow: hidden;padding: 0;position: absolute;width: 1px;}#sk-container-id-2 div.sk-estimator {font-family: monospace;background-color: #f0f8ff;border: 1px dotted black;border-radius: 0.25em;box-sizing: border-box;margin-bottom: 0.5em;}#sk-container-id-2 div.sk-estimator:hover {background-color: #d4ebff;}#sk-container-id-2 div.sk-parallel-item::after {content: \"\";width: 100%;border-bottom: 1px solid gray;flex-grow: 1;}#sk-container-id-2 div.sk-label:hover label.sk-toggleable__label {background-color: #d4ebff;}#sk-container-id-2 div.sk-serial::before {content: \"\";position: absolute;border-left: 1px solid gray;box-sizing: border-box;top: 0;bottom: 0;left: 50%;z-index: 0;}#sk-container-id-2 div.sk-serial {display: flex;flex-direction: column;align-items: center;background-color: white;padding-right: 0.2em;padding-left: 0.2em;position: relative;}#sk-container-id-2 div.sk-item {position: relative;z-index: 1;}#sk-container-id-2 div.sk-parallel {display: flex;align-items: stretch;justify-content: center;background-color: white;position: relative;}#sk-container-id-2 div.sk-item::before, #sk-container-id-2 div.sk-parallel-item::before {content: \"\";position: absolute;border-left: 1px solid gray;box-sizing: border-box;top: 0;bottom: 0;left: 50%;z-index: -1;}#sk-container-id-2 div.sk-parallel-item {display: flex;flex-direction: column;z-index: 1;position: relative;background-color: white;}#sk-container-id-2 div.sk-parallel-item:first-child::after {align-self: flex-end;width: 50%;}#sk-container-id-2 div.sk-parallel-item:last-child::after {align-self: flex-start;width: 50%;}#sk-container-id-2 div.sk-parallel-item:only-child::after {width: 0;}#sk-container-id-2 div.sk-dashed-wrapped {border: 1px dashed gray;margin: 0 0.4em 0.5em 0.4em;box-sizing: border-box;padding-bottom: 0.4em;background-color: white;}#sk-container-id-2 div.sk-label label {font-family: monospace;font-weight: bold;display: inline-block;line-height: 1.2em;}#sk-container-id-2 div.sk-label-container {text-align: center;}#sk-container-id-2 div.sk-container {/* jupyter's `normalize.less` sets `[hidden] { display: none; }` but bootstrap.min.css set `[hidden] { display: none !important; }` so we also need the `!important` here to be able to override the default hidden behavior on the sphinx rendered scikit-learn.org. See: https://github.com/scikit-learn/scikit-learn/issues/21755 */display: inline-block !important;position: relative;}#sk-container-id-2 div.sk-text-repr-fallback {display: none;}</style><div id=\"sk-container-id-2\" class=\"sk-top-container\"><div class=\"sk-text-repr-fallback\"><pre>LinearRegression()</pre><b>In a Jupyter environment, please rerun this cell to show the HTML representation or trust the notebook. <br />On GitHub, the HTML representation is unable to render, please try loading this page with nbviewer.org.</b></div><div class=\"sk-container\" hidden><div class=\"sk-item\"><div class=\"sk-estimator sk-toggleable\"><input class=\"sk-toggleable__control sk-hidden--visually\" id=\"sk-estimator-id-2\" type=\"checkbox\" checked><label for=\"sk-estimator-id-2\" class=\"sk-toggleable__label sk-toggleable__label-arrow\">LinearRegression</label><div class=\"sk-toggleable__content\"><pre>LinearRegression()</pre></div></div></div></div></div>"
      ],
      "text/plain": [
       "LinearRegression()"
      ]
     },
     "execution_count": 19,
     "metadata": {},
     "output_type": "execute_result"
    }
   ],
   "source": [
    "# Linear regression; fitting the model\n",
    "lm.fit(x_train, y_train)"
   ]
  },
  {
   "cell_type": "markdown",
   "id": "28d7856c",
   "metadata": {},
   "source": [
    "## Simple linear regression "
   ]
  },
  {
   "cell_type": "markdown",
   "id": "693cb718",
   "metadata": {},
   "source": [
    "**Rationale:** Simple linear regression is used to model the relationship between two continuous variables. The objective is usually to predict the value of an output or response variable (in our case, list price) based on the balue of an input or predictor variable (in our case, piece count). This will be used to help us determine the price that should be set for Lego sets with 8000 Lego pieces. "
   ]
  },
  {
   "cell_type": "markdown",
   "id": "20326d46",
   "metadata": {},
   "source": [
    "### Train data set"
   ]
  },
  {
   "cell_type": "code",
   "execution_count": 20,
   "id": "2f6568da",
   "metadata": {},
   "outputs": [],
   "source": [
    "# Predict the training set values\n",
    "y_pred = lm.predict(x_train)"
   ]
  },
  {
   "cell_type": "code",
   "execution_count": 21,
   "id": "d8f9b460",
   "metadata": {},
   "outputs": [
    {
     "data": {
      "image/png": "[encoded data removed]",
      "text/plain": [
       "<Figure size 432x288 with 1 Axes>"
      ]
     },
     "metadata": {
      "needs_background": "light"
     },
     "output_type": "display_data"
    }
   ],
   "source": [
    "# Visualise the train data\n",
    "plt.scatter(x_train, y_train, color=\"red\")\n",
    "plt.plot(x_train, y_pred, color=\"green\")\n",
    "plt.title(\"Piece Count vs List Price (Train)\")\n",
    "plt.xlabel(\"Piece Count\")\n",
    "plt.ylabel(\"List Price\")\n",
    "\n",
    "# Print the graph\n",
    "plt.show()"
   ]
  },
  {
   "cell_type": "markdown",
   "id": "c167c6c0",
   "metadata": {},
   "source": [
    "**Observations:** The plot for the training data set is very similar to the plot from earlier using the entire data set. In general, as the piece count goes up, so does the list price. The relationship is not perfectly linear, so there could be other factors influencing list price."
   ]
  },
  {
   "cell_type": "code",
   "execution_count": 22,
   "id": "cb69e6b0",
   "metadata": {},
   "outputs": [
    {
     "name": "stdout",
     "output_type": "stream",
     "text": [
      "0.7644351150518354\n"
     ]
    }
   ],
   "source": [
    "# Print the R-squared of the training data\n",
    "print(lm.score(x_train, y_train))"
   ]
  },
  {
   "cell_type": "markdown",
   "id": "f447c866",
   "metadata": {},
   "source": [
    "**Observations:** The R-squared value determines the proportion of variance in the dependent variable that can be explained by the independent variable. In our case, the R-squared value tells us that 76% of the variation in list price can be explained by piece count."
   ]
  },
  {
   "cell_type": "code",
   "execution_count": 23,
   "id": "9ed001cb",
   "metadata": {},
   "outputs": [
    {
     "name": "stdout",
     "output_type": "stream",
     "text": [
      "Intercept value:  [17.02159751]\n"
     ]
    }
   ],
   "source": [
    "# Print the intercept value\n",
    "print(\"Intercept value: \", lm.intercept_)"
   ]
  },
  {
   "cell_type": "code",
   "execution_count": 24,
   "id": "e07cac93",
   "metadata": {},
   "outputs": [
    {
     "name": "stdout",
     "output_type": "stream",
     "text": [
      "Coefficient value:  [[0.09744347]]\n"
     ]
    }
   ],
   "source": [
    "# Print the coefficient value\n",
    "print(\"Coefficient value: \", lm.coef_)"
   ]
  },
  {
   "cell_type": "markdown",
   "id": "f7e8aec0",
   "metadata": {},
   "source": [
    "**Observations:** The coefficient value signifies the amount y changes for a unit increase in x. In our case, the coefficient value tells us that each increase in piece count is associated with a 0.10 increase in the list price."
   ]
  },
  {
   "cell_type": "markdown",
   "id": "ba6b63d0",
   "metadata": {},
   "source": [
    "### Test data set"
   ]
  },
  {
   "cell_type": "code",
   "execution_count": 25,
   "id": "21510023",
   "metadata": {},
   "outputs": [
    {
     "data": {
      "text/html": [
       "<style>#sk-container-id-3 {color: black;background-color: white;}#sk-container-id-3 pre{padding: 0;}#sk-container-id-3 div.sk-toggleable {background-color: white;}#sk-container-id-3 label.sk-toggleable__label {cursor: pointer;display: block;width: 100%;margin-bottom: 0;padding: 0.3em;box-sizing: border-box;text-align: center;}#sk-container-id-3 label.sk-toggleable__label-arrow:before {content: \"▸\";float: left;margin-right: 0.25em;color: #696969;}#sk-container-id-3 label.sk-toggleable__label-arrow:hover:before {color: black;}#sk-container-id-3 div.sk-estimator:hover label.sk-toggleable__label-arrow:before {color: black;}#sk-container-id-3 div.sk-toggleable__content {max-height: 0;max-width: 0;overflow: hidden;text-align: left;background-color: #f0f8ff;}#sk-container-id-3 div.sk-toggleable__content pre {margin: 0.2em;color: black;border-radius: 0.25em;background-color: #f0f8ff;}#sk-container-id-3 input.sk-toggleable__control:checked~div.sk-toggleable__content {max-height: 200px;max-width: 100%;overflow: auto;}#sk-container-id-3 input.sk-toggleable__control:checked~label.sk-toggleable__label-arrow:before {content: \"▾\";}#sk-container-id-3 div.sk-estimator input.sk-toggleable__control:checked~label.sk-toggleable__label {background-color: #d4ebff;}#sk-container-id-3 div.sk-label input.sk-toggleable__control:checked~label.sk-toggleable__label {background-color: #d4ebff;}#sk-container-id-3 input.sk-hidden--visually {border: 0;clip: rect(1px 1px 1px 1px);clip: rect(1px, 1px, 1px, 1px);height: 1px;margin: -1px;overflow: hidden;padding: 0;position: absolute;width: 1px;}#sk-container-id-3 div.sk-estimator {font-family: monospace;background-color: #f0f8ff;border: 1px dotted black;border-radius: 0.25em;box-sizing: border-box;margin-bottom: 0.5em;}#sk-container-id-3 div.sk-estimator:hover {background-color: #d4ebff;}#sk-container-id-3 div.sk-parallel-item::after {content: \"\";width: 100%;border-bottom: 1px solid gray;flex-grow: 1;}#sk-container-id-3 div.sk-label:hover label.sk-toggleable__label {background-color: #d4ebff;}#sk-container-id-3 div.sk-serial::before {content: \"\";position: absolute;border-left: 1px solid gray;box-sizing: border-box;top: 0;bottom: 0;left: 50%;z-index: 0;}#sk-container-id-3 div.sk-serial {display: flex;flex-direction: column;align-items: center;background-color: white;padding-right: 0.2em;padding-left: 0.2em;position: relative;}#sk-container-id-3 div.sk-item {position: relative;z-index: 1;}#sk-container-id-3 div.sk-parallel {display: flex;align-items: stretch;justify-content: center;background-color: white;position: relative;}#sk-container-id-3 div.sk-item::before, #sk-container-id-3 div.sk-parallel-item::before {content: \"\";position: absolute;border-left: 1px solid gray;box-sizing: border-box;top: 0;bottom: 0;left: 50%;z-index: -1;}#sk-container-id-3 div.sk-parallel-item {display: flex;flex-direction: column;z-index: 1;position: relative;background-color: white;}#sk-container-id-3 div.sk-parallel-item:first-child::after {align-self: flex-end;width: 50%;}#sk-container-id-3 div.sk-parallel-item:last-child::after {align-self: flex-start;width: 50%;}#sk-container-id-3 div.sk-parallel-item:only-child::after {width: 0;}#sk-container-id-3 div.sk-dashed-wrapped {border: 1px dashed gray;margin: 0 0.4em 0.5em 0.4em;box-sizing: border-box;padding-bottom: 0.4em;background-color: white;}#sk-container-id-3 div.sk-label label {font-family: monospace;font-weight: bold;display: inline-block;line-height: 1.2em;}#sk-container-id-3 div.sk-label-container {text-align: center;}#sk-container-id-3 div.sk-container {/* jupyter's `normalize.less` sets `[hidden] { display: none; }` but bootstrap.min.css set `[hidden] { display: none !important; }` so we also need the `!important` here to be able to override the default hidden behavior on the sphinx rendered scikit-learn.org. See: https://github.com/scikit-learn/scikit-learn/issues/21755 */display: inline-block !important;position: relative;}#sk-container-id-3 div.sk-text-repr-fallback {display: none;}</style><div id=\"sk-container-id-3\" class=\"sk-top-container\"><div class=\"sk-text-repr-fallback\"><pre>LinearRegression()</pre><b>In a Jupyter environment, please rerun this cell to show the HTML representation or trust the notebook. <br />On GitHub, the HTML representation is unable to render, please try loading this page with nbviewer.org.</b></div><div class=\"sk-container\" hidden><div class=\"sk-item\"><div class=\"sk-estimator sk-toggleable\"><input class=\"sk-toggleable__control sk-hidden--visually\" id=\"sk-estimator-id-3\" type=\"checkbox\" checked><label for=\"sk-estimator-id-3\" class=\"sk-toggleable__label sk-toggleable__label-arrow\">LinearRegression</label><div class=\"sk-toggleable__content\"><pre>LinearRegression()</pre></div></div></div></div></div>"
      ],
      "text/plain": [
       "LinearRegression()"
      ]
     },
     "execution_count": 25,
     "metadata": {},
     "output_type": "execute_result"
    }
   ],
   "source": [
    "# Linear regression; fitting the model\n",
    "lm.fit(x_test, y_test)"
   ]
  },
  {
   "cell_type": "code",
   "execution_count": 26,
   "id": "cd552faf",
   "metadata": {},
   "outputs": [],
   "source": [
    "# Predict the test set values\n",
    "y_pred = lm.predict(x_test)"
   ]
  },
  {
   "cell_type": "code",
   "execution_count": 27,
   "id": "88feadb9",
   "metadata": {},
   "outputs": [
    {
     "data": {
      "image/png": "[encoded data removed]",
      "text/plain": [
       "<Figure size 432x288 with 1 Axes>"
      ]
     },
     "metadata": {
      "needs_background": "light"
     },
     "output_type": "display_data"
    }
   ],
   "source": [
    "# Visualise the test data\n",
    "plt.scatter(x_test, y_test, color=\"red\")\n",
    "plt.plot(x_test, y_pred, color=\"green\")\n",
    "plt.title(\"Piece Count vs List Price (Test)\")\n",
    "plt.xlabel(\"Piece Count\")\n",
    "plt.ylabel(\"List Price\")\n",
    "\n",
    "# Print the graph\n",
    "plt.show()"
   ]
  },
  {
   "cell_type": "markdown",
   "id": "8705c75c",
   "metadata": {},
   "source": [
    "**Observations:** The test data set plot varies slightly from the train data set plot but generally also shows that the list price tends to go up as the piece count goes up. "
   ]
  },
  {
   "cell_type": "code",
   "execution_count": 28,
   "id": "3d8e4234",
   "metadata": {},
   "outputs": [
    {
     "name": "stdout",
     "output_type": "stream",
     "text": [
      "0.736283806932537\n"
     ]
    }
   ],
   "source": [
    "# Print the R-squared value of the test data\n",
    "print(lm.score(x_test, y_test))"
   ]
  },
  {
   "cell_type": "markdown",
   "id": "9c5a77a3",
   "metadata": {},
   "source": [
    "**Observations:** 74% of the variation in list price can be explained by piece count."
   ]
  },
  {
   "cell_type": "code",
   "execution_count": 29,
   "id": "6397b0d0",
   "metadata": {},
   "outputs": [
    {
     "name": "stdout",
     "output_type": "stream",
     "text": [
      "Intercept value:  [18.04263613]\n"
     ]
    }
   ],
   "source": [
    "# Print the intercept value\n",
    "print(\"Intercept value: \", lm.intercept_)"
   ]
  },
  {
   "cell_type": "code",
   "execution_count": 30,
   "id": "cea10828",
   "metadata": {},
   "outputs": [
    {
     "name": "stdout",
     "output_type": "stream",
     "text": [
      "Coefficient value:  [[0.09561197]]\n"
     ]
    }
   ],
   "source": [
    "# Print the coefficient value\n",
    "print(\"Coefficient value: \", lm.coef_)"
   ]
  },
  {
   "cell_type": "markdown",
   "id": "036b982a",
   "metadata": {},
   "source": [
    "**Observations:** Each increase in piece count is associated with a 0.10 increase in list price."
   ]
  },
  {
   "cell_type": "markdown",
   "id": "c770f035",
   "metadata": {},
   "source": [
    "### Overall observations:"
   ]
  },
  {
   "cell_type": "markdown",
   "id": "294df76e",
   "metadata": {},
   "source": [
    "The values we obtained in the test data set are close to the values we obtained in the train data set. We can, therefore, conclude that our model for predicting list price based on piece count is a good model.\n",
    "\n",
    "We can be more confident in our observations that 76% of the variation in list price can be explained by piece count and that each increase in piece count is associated with a 0.10 increase in list price."
   ]
  },
  {
   "cell_type": "markdown",
   "id": "1977246f",
   "metadata": {},
   "source": [
    "## Multiple Linear Regression"
   ]
  },
  {
   "cell_type": "markdown",
   "id": "b225daa3",
   "metadata": {},
   "source": [
    "**Rationale:** Multiple linear regression uses two or more independent variables to predict the outcome of a dependent variable. The technique enables analysts to determine the variation of the model and the relative contribution of each independent variable in the total variance. Multiple linear regression will help us to determine the price that should be set for the Lego sets with 8000 Lego pieces that are most likely to be purchased by 30-year-old customers."
   ]
  },
  {
   "cell_type": "markdown",
   "id": "31f2fbe6",
   "metadata": {},
   "source": [
    "**Methdology:** In the steps below we will define our dependent (list price) and independent variables (piece count and ages). Similar to simple linear regression, we split our data into test and train data sets to avoid overfitting, with 70% of the data assigned to the train data set and 30% assigned to the test data set.\n",
    "\n",
    "We will check the R-squared, intercept, and coefficient values to see how closely these numbers match in the train and test data sets. If these values are similar, we can be more confident in using the R-squared value to explain how much of the variation in list price can be explained by piece count and age and in using the coefficient value to predict the change in list price based on the change in piece count and age."
   ]
  },
  {
   "cell_type": "markdown",
   "id": "31f95209",
   "metadata": {},
   "source": [
    "### Set-up"
   ]
  },
  {
   "cell_type": "code",
   "execution_count": 31,
   "id": "09953efc",
   "metadata": {},
   "outputs": [],
   "source": [
    "# Define the dependent variable\n",
    "y= df_lego['list_price']"
   ]
  },
  {
   "cell_type": "code",
   "execution_count": 32,
   "id": "9ac611fe",
   "metadata": {},
   "outputs": [],
   "source": [
    "# Define the independent variable\n",
    "X = df_lego[['piece_count', 'ages']]"
   ]
  },
  {
   "cell_type": "code",
   "execution_count": 33,
   "id": "1d7adc90",
   "metadata": {},
   "outputs": [],
   "source": [
    "# Create train and test data sets\n",
    "x_train, x_test, y_train, y_test = train_test_split(X, y, train_size=0.7, random_state=100)"
   ]
  },
  {
   "cell_type": "code",
   "execution_count": 34,
   "id": "7c1d48ed",
   "metadata": {},
   "outputs": [
    {
     "data": {
      "text/html": [
       "<style>#sk-container-id-4 {color: black;background-color: white;}#sk-container-id-4 pre{padding: 0;}#sk-container-id-4 div.sk-toggleable {background-color: white;}#sk-container-id-4 label.sk-toggleable__label {cursor: pointer;display: block;width: 100%;margin-bottom: 0;padding: 0.3em;box-sizing: border-box;text-align: center;}#sk-container-id-4 label.sk-toggleable__label-arrow:before {content: \"▸\";float: left;margin-right: 0.25em;color: #696969;}#sk-container-id-4 label.sk-toggleable__label-arrow:hover:before {color: black;}#sk-container-id-4 div.sk-estimator:hover label.sk-toggleable__label-arrow:before {color: black;}#sk-container-id-4 div.sk-toggleable__content {max-height: 0;max-width: 0;overflow: hidden;text-align: left;background-color: #f0f8ff;}#sk-container-id-4 div.sk-toggleable__content pre {margin: 0.2em;color: black;border-radius: 0.25em;background-color: #f0f8ff;}#sk-container-id-4 input.sk-toggleable__control:checked~div.sk-toggleable__content {max-height: 200px;max-width: 100%;overflow: auto;}#sk-container-id-4 input.sk-toggleable__control:checked~label.sk-toggleable__label-arrow:before {content: \"▾\";}#sk-container-id-4 div.sk-estimator input.sk-toggleable__control:checked~label.sk-toggleable__label {background-color: #d4ebff;}#sk-container-id-4 div.sk-label input.sk-toggleable__control:checked~label.sk-toggleable__label {background-color: #d4ebff;}#sk-container-id-4 input.sk-hidden--visually {border: 0;clip: rect(1px 1px 1px 1px);clip: rect(1px, 1px, 1px, 1px);height: 1px;margin: -1px;overflow: hidden;padding: 0;position: absolute;width: 1px;}#sk-container-id-4 div.sk-estimator {font-family: monospace;background-color: #f0f8ff;border: 1px dotted black;border-radius: 0.25em;box-sizing: border-box;margin-bottom: 0.5em;}#sk-container-id-4 div.sk-estimator:hover {background-color: #d4ebff;}#sk-container-id-4 div.sk-parallel-item::after {content: \"\";width: 100%;border-bottom: 1px solid gray;flex-grow: 1;}#sk-container-id-4 div.sk-label:hover label.sk-toggleable__label {background-color: #d4ebff;}#sk-container-id-4 div.sk-serial::before {content: \"\";position: absolute;border-left: 1px solid gray;box-sizing: border-box;top: 0;bottom: 0;left: 50%;z-index: 0;}#sk-container-id-4 div.sk-serial {display: flex;flex-direction: column;align-items: center;background-color: white;padding-right: 0.2em;padding-left: 0.2em;position: relative;}#sk-container-id-4 div.sk-item {position: relative;z-index: 1;}#sk-container-id-4 div.sk-parallel {display: flex;align-items: stretch;justify-content: center;background-color: white;position: relative;}#sk-container-id-4 div.sk-item::before, #sk-container-id-4 div.sk-parallel-item::before {content: \"\";position: absolute;border-left: 1px solid gray;box-sizing: border-box;top: 0;bottom: 0;left: 50%;z-index: -1;}#sk-container-id-4 div.sk-parallel-item {display: flex;flex-direction: column;z-index: 1;position: relative;background-color: white;}#sk-container-id-4 div.sk-parallel-item:first-child::after {align-self: flex-end;width: 50%;}#sk-container-id-4 div.sk-parallel-item:last-child::after {align-self: flex-start;width: 50%;}#sk-container-id-4 div.sk-parallel-item:only-child::after {width: 0;}#sk-container-id-4 div.sk-dashed-wrapped {border: 1px dashed gray;margin: 0 0.4em 0.5em 0.4em;box-sizing: border-box;padding-bottom: 0.4em;background-color: white;}#sk-container-id-4 div.sk-label label {font-family: monospace;font-weight: bold;display: inline-block;line-height: 1.2em;}#sk-container-id-4 div.sk-label-container {text-align: center;}#sk-container-id-4 div.sk-container {/* jupyter's `normalize.less` sets `[hidden] { display: none; }` but bootstrap.min.css set `[hidden] { display: none !important; }` so we also need the `!important` here to be able to override the default hidden behavior on the sphinx rendered scikit-learn.org. See: https://github.com/scikit-learn/scikit-learn/issues/21755 */display: inline-block !important;position: relative;}#sk-container-id-4 div.sk-text-repr-fallback {display: none;}</style><div id=\"sk-container-id-4\" class=\"sk-top-container\"><div class=\"sk-text-repr-fallback\"><pre>LinearRegression()</pre><b>In a Jupyter environment, please rerun this cell to show the HTML representation or trust the notebook. <br />On GitHub, the HTML representation is unable to render, please try loading this page with nbviewer.org.</b></div><div class=\"sk-container\" hidden><div class=\"sk-item\"><div class=\"sk-estimator sk-toggleable\"><input class=\"sk-toggleable__control sk-hidden--visually\" id=\"sk-estimator-id-4\" type=\"checkbox\" checked><label for=\"sk-estimator-id-4\" class=\"sk-toggleable__label sk-toggleable__label-arrow\">LinearRegression</label><div class=\"sk-toggleable__content\"><pre>LinearRegression()</pre></div></div></div></div></div>"
      ],
      "text/plain": [
       "LinearRegression()"
      ]
     },
     "execution_count": 34,
     "metadata": {},
     "output_type": "execute_result"
    }
   ],
   "source": [
    "# Multiple linear regression; fitting the model\n",
    "multi = LinearRegression()\n",
    "multi.fit(x_train, y_train)"
   ]
  },
  {
   "cell_type": "markdown",
   "id": "33a606ea",
   "metadata": {},
   "source": [
    "### Train data set"
   ]
  },
  {
   "cell_type": "code",
   "execution_count": 35,
   "id": "911fb729",
   "metadata": {},
   "outputs": [
    {
     "data": {
      "text/plain": [
       "array([ 94.33018165, 146.18236432,  17.2044989 , ...,  23.28063919,\n",
       "        74.44140892,  45.95327683])"
      ]
     },
     "execution_count": 35,
     "metadata": {},
     "output_type": "execute_result"
    }
   ],
   "source": [
    "# Predict the train set values\n",
    "multi.predict(x_train)"
   ]
  },
  {
   "cell_type": "code",
   "execution_count": 36,
   "id": "b41360e8",
   "metadata": {},
   "outputs": [
    {
     "name": "stdout",
     "output_type": "stream",
     "text": [
      "R-squared:  0.7644359915322901\n",
      "Intercept:  16.84044731259106\n",
      "Coefficients: \n"
     ]
    },
    {
     "data": {
      "text/plain": [
       "[('piece_count', 0.09745348450200038), ('ages', 0.010571538500851458)]"
      ]
     },
     "execution_count": 36,
     "metadata": {},
     "output_type": "execute_result"
    }
   ],
   "source": [
    "# Check the value of R-squared, intercept, and coefficients\n",
    "print(\"R-squared: \", multi.score(x_train, y_train))\n",
    "print(\"Intercept: \", multi.intercept_)\n",
    "print(\"Coefficients: \")\n",
    "list(zip(x_train, multi.coef_))"
   ]
  },
  {
   "cell_type": "markdown",
   "id": "d7177d8c",
   "metadata": {},
   "source": [
    "**Observations:** In the train data set 76% of the variation in list price can be explained by piece count and age. Each increase in piece count is associated with a 0.10 increase in list price. Each increase in age is associated with a 0.01 increase in list price."
   ]
  },
  {
   "cell_type": "markdown",
   "id": "d4dd1964",
   "metadata": {},
   "source": [
    "**OLS:** Ordinary Least Squares estimates the coefficients of linear regression equations which describe the relationship between one or more independent quantitative variables and a dependent variable. OLS minimises the prediction error between the predicted and real values. It takes into account the sum of squared errors instead of the errors as they are since these can sometime be negative or positive and could sum up to a nearly null value."
   ]
  },
  {
   "cell_type": "code",
   "execution_count": 37,
   "id": "b3e78297",
   "metadata": {},
   "outputs": [
    {
     "data": {
      "text/html": [
       "<style>#sk-container-id-5 {color: black;background-color: white;}#sk-container-id-5 pre{padding: 0;}#sk-container-id-5 div.sk-toggleable {background-color: white;}#sk-container-id-5 label.sk-toggleable__label {cursor: pointer;display: block;width: 100%;margin-bottom: 0;padding: 0.3em;box-sizing: border-box;text-align: center;}#sk-container-id-5 label.sk-toggleable__label-arrow:before {content: \"▸\";float: left;margin-right: 0.25em;color: #696969;}#sk-container-id-5 label.sk-toggleable__label-arrow:hover:before {color: black;}#sk-container-id-5 div.sk-estimator:hover label.sk-toggleable__label-arrow:before {color: black;}#sk-container-id-5 div.sk-toggleable__content {max-height: 0;max-width: 0;overflow: hidden;text-align: left;background-color: #f0f8ff;}#sk-container-id-5 div.sk-toggleable__content pre {margin: 0.2em;color: black;border-radius: 0.25em;background-color: #f0f8ff;}#sk-container-id-5 input.sk-toggleable__control:checked~div.sk-toggleable__content {max-height: 200px;max-width: 100%;overflow: auto;}#sk-container-id-5 input.sk-toggleable__control:checked~label.sk-toggleable__label-arrow:before {content: \"▾\";}#sk-container-id-5 div.sk-estimator input.sk-toggleable__control:checked~label.sk-toggleable__label {background-color: #d4ebff;}#sk-container-id-5 div.sk-label input.sk-toggleable__control:checked~label.sk-toggleable__label {background-color: #d4ebff;}#sk-container-id-5 input.sk-hidden--visually {border: 0;clip: rect(1px 1px 1px 1px);clip: rect(1px, 1px, 1px, 1px);height: 1px;margin: -1px;overflow: hidden;padding: 0;position: absolute;width: 1px;}#sk-container-id-5 div.sk-estimator {font-family: monospace;background-color: #f0f8ff;border: 1px dotted black;border-radius: 0.25em;box-sizing: border-box;margin-bottom: 0.5em;}#sk-container-id-5 div.sk-estimator:hover {background-color: #d4ebff;}#sk-container-id-5 div.sk-parallel-item::after {content: \"\";width: 100%;border-bottom: 1px solid gray;flex-grow: 1;}#sk-container-id-5 div.sk-label:hover label.sk-toggleable__label {background-color: #d4ebff;}#sk-container-id-5 div.sk-serial::before {content: \"\";position: absolute;border-left: 1px solid gray;box-sizing: border-box;top: 0;bottom: 0;left: 50%;z-index: 0;}#sk-container-id-5 div.sk-serial {display: flex;flex-direction: column;align-items: center;background-color: white;padding-right: 0.2em;padding-left: 0.2em;position: relative;}#sk-container-id-5 div.sk-item {position: relative;z-index: 1;}#sk-container-id-5 div.sk-parallel {display: flex;align-items: stretch;justify-content: center;background-color: white;position: relative;}#sk-container-id-5 div.sk-item::before, #sk-container-id-5 div.sk-parallel-item::before {content: \"\";position: absolute;border-left: 1px solid gray;box-sizing: border-box;top: 0;bottom: 0;left: 50%;z-index: -1;}#sk-container-id-5 div.sk-parallel-item {display: flex;flex-direction: column;z-index: 1;position: relative;background-color: white;}#sk-container-id-5 div.sk-parallel-item:first-child::after {align-self: flex-end;width: 50%;}#sk-container-id-5 div.sk-parallel-item:last-child::after {align-self: flex-start;width: 50%;}#sk-container-id-5 div.sk-parallel-item:only-child::after {width: 0;}#sk-container-id-5 div.sk-dashed-wrapped {border: 1px dashed gray;margin: 0 0.4em 0.5em 0.4em;box-sizing: border-box;padding-bottom: 0.4em;background-color: white;}#sk-container-id-5 div.sk-label label {font-family: monospace;font-weight: bold;display: inline-block;line-height: 1.2em;}#sk-container-id-5 div.sk-label-container {text-align: center;}#sk-container-id-5 div.sk-container {/* jupyter's `normalize.less` sets `[hidden] { display: none; }` but bootstrap.min.css set `[hidden] { display: none !important; }` so we also need the `!important` here to be able to override the default hidden behavior on the sphinx rendered scikit-learn.org. See: https://github.com/scikit-learn/scikit-learn/issues/21755 */display: inline-block !important;position: relative;}#sk-container-id-5 div.sk-text-repr-fallback {display: none;}</style><div id=\"sk-container-id-5\" class=\"sk-top-container\"><div class=\"sk-text-repr-fallback\"><pre>LinearRegression()</pre><b>In a Jupyter environment, please rerun this cell to show the HTML representation or trust the notebook. <br />On GitHub, the HTML representation is unable to render, please try loading this page with nbviewer.org.</b></div><div class=\"sk-container\" hidden><div class=\"sk-item\"><div class=\"sk-estimator sk-toggleable\"><input class=\"sk-toggleable__control sk-hidden--visually\" id=\"sk-estimator-id-5\" type=\"checkbox\" checked><label for=\"sk-estimator-id-5\" class=\"sk-toggleable__label sk-toggleable__label-arrow\">LinearRegression</label><div class=\"sk-toggleable__content\"><pre>LinearRegression()</pre></div></div></div></div></div>"
      ],
      "text/plain": [
       "LinearRegression()"
      ]
     },
     "execution_count": 37,
     "metadata": {},
     "output_type": "execute_result"
    }
   ],
   "source": [
    "# Run regression on the train subset\n",
    "mlr = LinearRegression()\n",
    "mlr.fit(x_train, y_train)"
   ]
  },
  {
   "cell_type": "code",
   "execution_count": 38,
   "id": "c029cc07",
   "metadata": {},
   "outputs": [
    {
     "name": "stdout",
     "output_type": "stream",
     "text": [
      "                            OLS Regression Results                            \n",
      "==============================================================================\n",
      "Dep. Variable:             list_price   R-squared:                       0.764\n",
      "Model:                            OLS   Adj. R-squared:                  0.764\n",
      "Method:                 Least Squares   F-statistic:                 1.392e+04\n",
      "Date:                Sat, 02 Jul 2022   Prob (F-statistic):               0.00\n",
      "Time:                        11:49:05   Log-Likelihood:                -44845.\n",
      "No. Observations:                8582   AIC:                         8.970e+04\n",
      "Df Residuals:                    8579   BIC:                         8.972e+04\n",
      "Df Model:                           2                                         \n",
      "Covariance Type:            nonrobust                                         \n",
      "===============================================================================\n",
      "                  coef    std err          t      P>|t|      [0.025      0.975]\n",
      "-------------------------------------------------------------------------------\n",
      "const          16.8404      1.161     14.501      0.000      14.564      19.117\n",
      "piece_count     0.0975      0.001    166.106      0.000       0.096       0.099\n",
      "ages            0.0106      0.059      0.179      0.858      -0.105       0.127\n",
      "==============================================================================\n",
      "Omnibus:                     9640.081   Durbin-Watson:                   1.973\n",
      "Prob(Omnibus):                  0.000   Jarque-Bera (JB):          1342963.006\n",
      "Skew:                           5.656   Prob(JB):                         0.00\n",
      "Kurtosis:                      63.230   Cond. No.                     2.32e+03\n",
      "==============================================================================\n",
      "\n",
      "Notes:\n",
      "[1] Standard Errors assume that the covariance matrix of the errors is correctly specified.\n",
      "[2] The condition number is large, 2.32e+03. This might indicate that there are\n",
      "strong multicollinearity or other numerical problems.\n"
     ]
    }
   ],
   "source": [
    "# Training subset with MLR \n",
    "model = sm.OLS(y_train, sm.add_constant(x_train)).fit()\n",
    "Y_pred = model.predict(sm.add_constant(x_train))\n",
    "print_model = model.summary()\n",
    "\n",
    "print(print_model)"
   ]
  },
  {
   "cell_type": "markdown",
   "id": "d9ab32e6",
   "metadata": {},
   "source": [
    "**Observations:** In the train data set 76% of the variation in list price can be explained by piece count and age. Each increase in piece count is associated with a 0.10 increase in list price. Each increase in age is associated with a 0.01 increase in list price.\n",
    "\n",
    "This matches what we found earlier."
   ]
  },
  {
   "cell_type": "code",
   "execution_count": 39,
   "id": "95f3ab5c",
   "metadata": {},
   "outputs": [
    {
     "name": "stdout",
     "output_type": "stream",
     "text": [
      "Prediction for test set: [ 94.33018165 146.18236432  17.2044989  ...  23.28063919  74.44140892\n",
      "  45.95327683]\n"
     ]
    }
   ],
   "source": [
    "# Predictions for train subset\n",
    "y_pred_mlr= mlr.predict(x_train)\n",
    "print(\"Prediction for test set: {}\".format(y_pred_mlr))"
   ]
  },
  {
   "cell_type": "code",
   "execution_count": 40,
   "id": "83b7c84e",
   "metadata": {},
   "outputs": [],
   "source": [
    "# Determine mean absolute error and mean square error\n",
    "meanAbErr = metrics.mean_absolute_error(y_train, y_pred_mlr)\n",
    "meanSqErr = metrics.mean_squared_error(y_train, y_pred_mlr)"
   ]
  },
  {
   "cell_type": "code",
   "execution_count": 41,
   "id": "4aa6dce5",
   "metadata": {},
   "outputs": [
    {
     "name": "stdout",
     "output_type": "stream",
     "text": [
      "R-squared: 75.623765\n",
      "Mean Absolute Error: 20.48437046417795\n",
      "Mean Square Error: 2024.3055537470063\n"
     ]
    }
   ],
   "source": [
    "# Print R-squared, Mean Absolute Error, and Mean Square Error values\n",
    "print('R-squared: {:2f}'.format(mlr.score(X,y) *100))\n",
    "print('Mean Absolute Error:', meanAbErr) \n",
    "print('Mean Square Error:', meanSqErr)"
   ]
  },
  {
   "cell_type": "markdown",
   "id": "5c0fa017",
   "metadata": {},
   "source": [
    "**Observations:** The R-squared value tells us that 76% of the variance in list price can be explained by piece count and age. \n",
    "\n",
    "The mean absolute error is the average of the absolute differences between the actual values and the predicted values. The closer MAE is to 0, the better. In our case, the MAE is 20.\n",
    "\n",
    "The mean square error indicates how different the population mean is likely to be from the sample mean. It tells you how much the sample mean would vary if you were to repeat a study using new samples from within a single population. The mean square error is high, at 2024. However, this also reflects a different unit of measurement since value is USD^2. Therefore, the mean absolute error is a better indicator."
   ]
  },
  {
   "cell_type": "markdown",
   "id": "70aedfe7",
   "metadata": {},
   "source": [
    "**Check multicollinearity:** Multicollinearity may occur if there are strong correlations between two or more independent variables in an MLR model. High multicollinearity suggests that independent variables are linearly related to each other. \n",
    "\n",
    "Multicollinearity can mask the true effects of our analysis, particularly if we are trying to see how well each independent variable can predict the dependent variable. Generally, multicollinearity causes unreliable coefficient estimates. Multicollinearity also lessens the statistical power of the model, making it harder to identify independent variables that are genuinely statistically significant."
   ]
  },
  {
   "cell_type": "code",
   "execution_count": 42,
   "id": "2c3aec41",
   "metadata": {},
   "outputs": [
    {
     "name": "stdout",
     "output_type": "stream",
     "text": [
      "   VIF Factor     features\n",
      "0         5.7        const\n",
      "1         1.0  piece_count\n",
      "2         1.0         ages\n"
     ]
    }
   ],
   "source": [
    "# Check multicollinearity\n",
    "x_temp = sm.add_constant(x_train)\n",
    "\n",
    "vif = pd.DataFrame()\n",
    "vif['VIF Factor'] = [variance_inflation_factor(x_temp.values, i) for i in range(x_temp.values.shape[1])]\n",
    "vif['features'] = x_temp.columns\n",
    "print(vif.round(1))"
   ]
  },
  {
   "cell_type": "markdown",
   "id": "8f57d233",
   "metadata": {},
   "source": [
    "**Observations:** The variance inflation factor (VIF) measures multicollinearity by identifying the correlation between independent variables and the strength of correlation. The VIF factor for both piece count and ages is 1. This means that there is no correlation between piece count and ages, which strengthens the accuracy of our MLR model."
   ]
  },
  {
   "cell_type": "markdown",
   "id": "72777be5",
   "metadata": {},
   "source": [
    "**Check homoscedasticity:** Homoscedasticity is the assumption that the variation in the residuals (or amount of error in the model) is similar at each point across the model. This is important to check because uneven variances in samples result in biased and skewed test results."
   ]
  },
  {
   "cell_type": "code",
   "execution_count": 43,
   "id": "3e94085c",
   "metadata": {},
   "outputs": [],
   "source": [
    "# Run the Breusch-Pagan test function on the model residuals and x-variables:\n",
    "model = sms.het_breuschpagan(model.resid, model.model.exog)"
   ]
  },
  {
   "cell_type": "code",
   "execution_count": 44,
   "id": "1468a227",
   "metadata": {},
   "outputs": [
    {
     "name": "stdout",
     "output_type": "stream",
     "text": [
      "{'LM stat': 738.140223598118, 'LM Test p-value': 5.186650810533334e-161, 'F-stat': 403.66000660156396, 'F-test p-value': 2.869153157610451e-168}\n"
     ]
    }
   ],
   "source": [
    "# Print the results of the Breusch-Pagan test:\n",
    "terms =['LM stat', 'LM Test p-value', 'F-stat', 'F-test p-value']\n",
    "print(dict(zip(terms, model)))"
   ]
  },
  {
   "cell_type": "markdown",
   "id": "0cd4de65",
   "metadata": {},
   "source": [
    "**Observations:** The p-value of the LM test is 5.187 which is greater than 0.05, the assigned significance level. Therefore, we fail to reject the null hypothesis and confirm that heteroscedasticity is not present in the model."
   ]
  },
  {
   "cell_type": "markdown",
   "id": "fb3478a4",
   "metadata": {},
   "source": [
    "### Test data set"
   ]
  },
  {
   "cell_type": "code",
   "execution_count": 45,
   "id": "04badf0b",
   "metadata": {},
   "outputs": [
    {
     "data": {
      "text/plain": [
       "array([23.11744684, 30.23981311, 53.52062436, ..., 68.7656541 ,\n",
       "       71.2994447 , 32.43300483])"
      ]
     },
     "execution_count": 45,
     "metadata": {},
     "output_type": "execute_result"
    }
   ],
   "source": [
    "# Predict the test set values\n",
    "multi.predict(x_test)"
   ]
  },
  {
   "cell_type": "code",
   "execution_count": 46,
   "id": "095ee668",
   "metadata": {},
   "outputs": [
    {
     "name": "stdout",
     "output_type": "stream",
     "text": [
      "R-squared:  0.7360238984201946\n",
      "Intercept:  16.84044731259106\n",
      "Coefficients: \n"
     ]
    },
    {
     "data": {
      "text/plain": [
       "[('piece_count', 0.09745348450200038), ('ages', 0.010571538500851458)]"
      ]
     },
     "execution_count": 46,
     "metadata": {},
     "output_type": "execute_result"
    }
   ],
   "source": [
    "# Print the value of the R-squared, intercept, and coefficients\n",
    "print(\"R-squared: \", multi.score(x_test, y_test))\n",
    "print(\"Intercept: \", multi.intercept_)\n",
    "print(\"Coefficients: \")\n",
    "list(zip(x_test, multi.coef_))"
   ]
  },
  {
   "cell_type": "markdown",
   "id": "bdb7faba",
   "metadata": {},
   "source": [
    "**Observations:** In the test data set 74% of the variation in list price can be explained by piece count and age. Each increase in piece count is associated with a 0.10 increase in list price. Each increase in age is associated with a 0.01 increase in list price.\n",
    "\n",
    "These values are very close to what we obtained in our train data set."
   ]
  },
  {
   "cell_type": "markdown",
   "id": "7d4b5767",
   "metadata": {},
   "source": [
    "**Check model with OLS**"
   ]
  },
  {
   "cell_type": "code",
   "execution_count": 47,
   "id": "5d337cfb",
   "metadata": {},
   "outputs": [
    {
     "name": "stdout",
     "output_type": "stream",
     "text": [
      "                            OLS Regression Results                            \n",
      "==============================================================================\n",
      "Dep. Variable:             list_price   R-squared:                       0.736\n",
      "Model:                            OLS   Adj. R-squared:                  0.736\n",
      "Method:                 Least Squares   F-statistic:                     5133.\n",
      "Date:                Sat, 02 Jul 2022   Prob (F-statistic):               0.00\n",
      "Time:                        11:49:06   Log-Likelihood:                -19333.\n",
      "No. Observations:                3679   AIC:                         3.867e+04\n",
      "Df Residuals:                    3676   BIC:                         3.869e+04\n",
      "Df Model:                           2                                         \n",
      "Covariance Type:            nonrobust                                         \n",
      "===============================================================================\n",
      "                  coef    std err          t      P>|t|      [0.025      0.975]\n",
      "-------------------------------------------------------------------------------\n",
      "const          16.6652      1.844      9.037      0.000      13.050      20.281\n",
      "piece_count     0.0957      0.001    101.022      0.000       0.094       0.098\n",
      "ages            0.0803      0.094      0.853      0.394      -0.104       0.265\n",
      "==============================================================================\n",
      "Omnibus:                     4391.857   Durbin-Watson:                   2.025\n",
      "Prob(Omnibus):                  0.000   Jarque-Bera (JB):           693714.227\n",
      "Skew:                           6.199   Prob(JB):                         0.00\n",
      "Kurtosis:                      69.119   Cond. No.                     2.28e+03\n",
      "==============================================================================\n",
      "\n",
      "Notes:\n",
      "[1] Standard Errors assume that the covariance matrix of the errors is correctly specified.\n",
      "[2] The condition number is large, 2.28e+03. This might indicate that there are\n",
      "strong multicollinearity or other numerical problems.\n"
     ]
    }
   ],
   "source": [
    "# Test subset with MLR\n",
    "model = sm.OLS(y_test, sm.add_constant(x_test)).fit()\n",
    "Y_pred = model.predict(sm.add_constant(x_test))\n",
    "print_model = model.summary()\n",
    "\n",
    "print(print_model)"
   ]
  },
  {
   "cell_type": "markdown",
   "id": "25db56d4",
   "metadata": {},
   "source": [
    "**Observations:** In the test data set 74% of the variation in list price can be explained by piece count and age. Each increase in piece count is associated with a 0.10 increase in list price. Each increase in age is associated with a 0.08 increase in list price.\n",
    "\n",
    "These values are similar to what we found earlier, with a slight difference for the ages coefficient."
   ]
  },
  {
   "cell_type": "code",
   "execution_count": 48,
   "id": "42b63784",
   "metadata": {},
   "outputs": [
    {
     "name": "stdout",
     "output_type": "stream",
     "text": [
      "Prediction for test set: [23.11744684 30.23981311 53.52062436 ... 68.7656541  71.2994447\n",
      " 32.43300483]\n"
     ]
    }
   ],
   "source": [
    "# Create predictions for test set\n",
    "y_pred_mlr= mlr.predict(x_test)\n",
    "print(\"Prediction for test set: {}\".format(y_pred_mlr))"
   ]
  },
  {
   "cell_type": "code",
   "execution_count": 49,
   "id": "92a040ac",
   "metadata": {},
   "outputs": [],
   "source": [
    "# Determine mean absolute error and mean square error\n",
    "meanAbErr = metrics.mean_absolute_error(y_test, y_pred_mlr)\n",
    "meanSqErr = metrics.mean_squared_error(y_test, y_pred_mlr)"
   ]
  },
  {
   "cell_type": "code",
   "execution_count": 50,
   "id": "8c3039b9",
   "metadata": {},
   "outputs": [
    {
     "name": "stdout",
     "output_type": "stream",
     "text": [
      "R squared: 75.623765\n",
      "Mean Absolute Error: 20.655927137322237\n",
      "Mean Square Error: 2150.458473111799\n"
     ]
    }
   ],
   "source": [
    "# Print R-squared, Mean Absolute Error, and Mean Square Error values\n",
    "print('R squared: {:2f}'.format(mlr.score(X,y)*100))\n",
    "print('Mean Absolute Error:', meanAbErr)\n",
    "print('Mean Square Error:', meanSqErr)"
   ]
  },
  {
   "cell_type": "markdown",
   "id": "91b49064",
   "metadata": {},
   "source": [
    "**Observations:** The R-squared value tells us that 76% of the variance in list price can be explained by piece count and age. \n",
    "\n",
    "The mean absolute error is the average of the absolute differences between the actual values and the predicted values. The closer MAE is to 0, the better. In our case, the MAE is 21.\n",
    "\n",
    "The mean square error indicates how different the population mean is likely to be from the sample mean. It tells you how much the sample mean would vary if you were to repeat a study using new samples from within a single population. The mean square error is high, at 2150. However, this also reflects a different unit of measurement since value is USD^2. Therefore, the mean absolute error is a better indicator.\n",
    "\n",
    "These values are very close to the train data set (R-squared=76, Mean Abs Error=20, Mean St Error=2024)."
   ]
  },
  {
   "cell_type": "code",
   "execution_count": 51,
   "id": "46f417eb",
   "metadata": {},
   "outputs": [
    {
     "name": "stdout",
     "output_type": "stream",
     "text": [
      "   VIF Factor     features\n",
      "0         5.8        const\n",
      "1         1.0  piece_count\n",
      "2         1.0         ages\n"
     ]
    }
   ],
   "source": [
    "# Check multicollinearity of test data set\n",
    "x_temp = sm.add_constant(x_test)\n",
    "\n",
    "vif = pd.DataFrame()\n",
    "vif['VIF Factor'] = [variance_inflation_factor(x_temp.values, i) for i in range(x_temp.values.shape[1])]\n",
    "vif['features'] = x_temp.columns\n",
    "print(vif.round(1))"
   ]
  },
  {
   "cell_type": "markdown",
   "id": "d850f67b",
   "metadata": {},
   "source": [
    "**Observations:** The variance inflation factor (VIF) measures multicollinearity by identifying the correlation between independent variables and the strength of correlation. The VIF factor for both piece count and ages is 1. This means that there is no correlation between piece count and ages, which strengthens the accuracy of our MLR model.\n",
    "\n",
    "These values are the same as the train data set."
   ]
  },
  {
   "cell_type": "code",
   "execution_count": 52,
   "id": "06c9c658",
   "metadata": {},
   "outputs": [],
   "source": [
    "# Run the Breusch-Pagan test function on the model residuals and x-variables:\n",
    "model = sms.het_breuschpagan(model.resid, model.model.exog)"
   ]
  },
  {
   "cell_type": "code",
   "execution_count": 53,
   "id": "501eca30",
   "metadata": {},
   "outputs": [
    {
     "name": "stdout",
     "output_type": "stream",
     "text": [
      "{'LM stat': 291.37294089292186, 'LM Test p-value': 5.360061801559846e-64, 'F-stat': 158.0880823116198, 'F-test p-value': 1.3700936461978565e-66}\n"
     ]
    }
   ],
   "source": [
    "# Print the results of the Breusch-Pagan test:\n",
    "terms =['LM stat', 'LM Test p-value', 'F-stat', 'F-test p-value']\n",
    "print(dict(zip(terms, model)))"
   ]
  },
  {
   "cell_type": "markdown",
   "id": "7b32717c",
   "metadata": {},
   "source": [
    "**Observations:** The p-value of the LM test is 5.360 which is greater than 0.05, the assigned significance level. Therefore, we fail to reject the null hypothesis and confirm that heteroscedasticity is not present in the model.\n",
    "\n",
    "This value is similar to what we saw in the train data set (5.187)."
   ]
  },
  {
   "cell_type": "markdown",
   "id": "3a675e1f",
   "metadata": {},
   "source": [
    "### Overall observations:"
   ]
  },
  {
   "cell_type": "markdown",
   "id": "1daa64bf",
   "metadata": {},
   "source": [
    "The values we obtained in the test data set are close to the values we obtained in the train data set. In addition, there is no correlation between piece count and age and we can confirm that heteroscedasticity is not present in the model. We can, therefore, conclude that our model for predicting list price based on piece count and age is a good model.\n",
    "\n",
    "We can be more confident in our observations that 76% of the variation in list price can be explained by piece count and age. Each increase in piece count is associated with a 0.10 increase in list price. Each increase in age is associated with a 0.01 increase in list price."
   ]
  },
  {
   "cell_type": "markdown",
   "id": "affc03a0",
   "metadata": {},
   "source": [
    "## Determine optimal prices"
   ]
  },
  {
   "cell_type": "markdown",
   "id": "a000c8b4",
   "metadata": {},
   "source": [
    "### What price should be set for the Lego sets that have 8000 pieces?"
   ]
  },
  {
   "cell_type": "code",
   "execution_count": 54,
   "id": "7c296b95",
   "metadata": {},
   "outputs": [
    {
     "name": "stdout",
     "output_type": "stream",
     "text": [
      "Predicted value 8000 pieces: \n",
      " [[782.93836492]]\n"
     ]
    }
   ],
   "source": [
    "# Print predicted value based on lm model\n",
    "print(f'Predicted value 8000 pieces: \\n {lm.predict([[8000]])}')"
   ]
  },
  {
   "cell_type": "markdown",
   "id": "dc32ef2f",
   "metadata": {},
   "source": [
    "### What price should be set for all the Lego sets that have 8000 pieces and are most likely to be purchased by customers who are 30 years old?"
   ]
  },
  {
   "cell_type": "code",
   "execution_count": 55,
   "id": "1d94559a",
   "metadata": {},
   "outputs": [
    {
     "name": "stdout",
     "output_type": "stream",
     "text": [
      "Predicted Value 8000 pieces, age 30: \n",
      " [796.78546948]\n"
     ]
    }
   ],
   "source": [
    "# Print predicted value based on mlr model\n",
    "Pieces = 8000\n",
    "Age = 30\n",
    "print('Predicted Value 8000 pieces, age 30: \\n', mlr.predict([[Pieces, Age]]))"
   ]
  },
  {
   "cell_type": "markdown",
   "id": "cf4f590d",
   "metadata": {},
   "source": [
    "## Insights"
   ]
  },
  {
   "cell_type": "markdown",
   "id": "ff2cbdce",
   "metadata": {},
   "source": [
    "There is a fairly linear relationship between piece count and list price. As piece count goes up, the list price also tends to go up. List price also tends to be higher as age increases, although the effect isn't as high as piece count. 76% of the variation in list price can be explained by piece count and 76% of the variation in list price can be explained by both piece count and age.\n",
    "\n",
    "We can be fairly confident in our linear and multilinear models that we created to predict list price based on piece count and piece count + age due to the similarity in the train vs test data sets along with the lack of multicollinearity and heteroscedasticity. \n",
    "\n",
    "TurtleGames should charge 782.94 USD for Lego sets with 8000 pieces. They should charge 796.79 USD for Lego sets that have 8000 pieces and are most likely to be purchased by customers who are 30 years old."
   ]
  }
 ],
 "metadata": {
  "kernelspec": {
   "display_name": "Python 3 (ipykernel)",
   "language": "python",
   "name": "python3"
  },
  "language_info": {
   "codemirror_mode": {
    "name": "ipython",
    "version": 3
   },
   "file_extension": ".py",
   "mimetype": "text/x-python",
   "name": "python",
   "nbconvert_exporter": "python",
   "pygments_lexer": "ipython3",
   "version": "3.9.7"
  }
 },
 "nbformat": 4,
 "nbformat_minor": 5
}
